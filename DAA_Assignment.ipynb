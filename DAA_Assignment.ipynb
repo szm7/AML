{
  "nbformat": 4,
  "nbformat_minor": 0,
  "metadata": {
    "colab": {
      "provenance": [],
      "authorship_tag": "ABX9TyPU9aiBCQ3BhvrknqB9tOAh",
      "include_colab_link": true
    },
    "kernelspec": {
      "name": "python3",
      "display_name": "Python 3"
    },
    "language_info": {
      "name": "python"
    }
  },
  "cells": [
    {
      "cell_type": "markdown",
      "metadata": {
        "id": "view-in-github",
        "colab_type": "text"
      },
      "source": [
        "<a href=\"https://colab.research.google.com/github/szm7/AML/blob/main/DAA_Assignment.ipynb\" target=\"_parent\"><img src=\"https://colab.research.google.com/assets/colab-badge.svg\" alt=\"Open In Colab\"/></a>"
      ]
    },
    {
      "cell_type": "code",
      "source": [
        "import time"
      ],
      "metadata": {
        "id": "k1uEid40XZIH"
      },
      "execution_count": 33,
      "outputs": []
    },
    {
      "cell_type": "code",
      "source": [
        "def bubble_sort(array):\n",
        "    n = len(array)\n",
        "    for i in range(n):\n",
        "        for j in range(0, n - i - 1):\n",
        "            if array[j] > array[j + 1]:\n",
        "                array[j], array[j + 1] = array[j + 1], array[j]"
      ],
      "metadata": {
        "id": "cnUaeokQXbr6"
      },
      "execution_count": 34,
      "outputs": []
    },
    {
      "cell_type": "code",
      "source": [
        "def insertion_sort(array):\n",
        "    n = len(array)\n",
        "    for i in range(1, n):\n",
        "        key = array[i]\n",
        "        j = i - 1\n",
        "        while j >= 0 and array[j] > key:\n",
        "            array[j + 1] = array[j]\n",
        "            j -= 1\n",
        "        array[j + 1] = key"
      ],
      "metadata": {
        "id": "k1ilxONQXeaq"
      },
      "execution_count": 35,
      "outputs": []
    },
    {
      "cell_type": "code",
      "source": [
        "def measure_execution_time(algorithm, array):\n",
        "    start_time = time.time()\n",
        "    algorithm(array)\n",
        "    end_time = time.time()\n",
        "    return end_time - start_time\n"
      ],
      "metadata": {
        "id": "TYC4eljsXgnB"
      },
      "execution_count": 36,
      "outputs": []
    },
    {
      "cell_type": "code",
      "source": [
        "array = []\n",
        "n = int(input(\"Enter the number of elements in the array: \"))\n",
        "for i in range(n):\n",
        "  array.append(int(input(\"Enter element \" + str(i + 1) + \": \")))\n",
        "\n",
        "bubble_sort_time = measure_execution_time(bubble_sort, array)\n",
        "insertion_sort_time = measure_execution_time(insertion_sort, array)\n",
        "print(\"Bubble Sort time:\", bubble_sort_time)\n",
        "print(\"Insertion Sort time:\", insertion_sort_time)"
      ],
      "metadata": {
        "colab": {
          "base_uri": "https://localhost:8080/"
        },
        "id": "zg5-jRAeX1aQ",
        "outputId": "8cfcc9c8-e42a-4df4-bacd-5339afb35c77"
      },
      "execution_count": 37,
      "outputs": [
        {
          "output_type": "stream",
          "name": "stdout",
          "text": [
            "Enter the number of elements in the array: 10\n",
            "Enter element 1: 10\n",
            "Enter element 2: 9\n",
            "Enter element 3: 8\n",
            "Enter element 4: 7\n",
            "Enter element 5: 6\n",
            "Enter element 6: 5\n",
            "Enter element 7: 4\n",
            "Enter element 8: 3\n",
            "Enter element 9: 2\n",
            "Enter element 10: 1\n",
            "Bubble Sort time: 2.6941299438476562e-05\n",
            "Insertion Sort time: 8.106231689453125e-06\n"
          ]
        }
      ]
    }
  ]
}